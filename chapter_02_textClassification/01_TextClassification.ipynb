{
 "cells": [
  {
   "cell_type": "code",
   "execution_count": 64,
   "id": "d1f354d1",
   "metadata": {},
   "outputs": [],
   "source": [
    "from datasets import list_datasets\n",
    "from datasets import load_dataset\n",
    "import pandas as pd\n",
    "import matplotlib.pyplot as plt\n",
    "from transformers import AutoTokenizer\n",
    "import torch\n",
    "from transformers import AutoModel\n",
    "import numpy as np\n",
    "from umap import UMAP\n",
    "from sklearn.preprocessing import MinMaxScaler\n",
    "from sklearn.linear_model import LogisticRegression\n",
    "from sklearn.dummy import DummyClassifier\n",
    "from sklearn.metrics import ConfusionMatrixDisplay, confusion_matrix\n",
    "from transformers import AutoModelForSequenceClassification\n",
    "from sklearn.metrics import accuracy_score, f1_score\n",
    "from huggingface_hub import notebook_login\n",
    "from transformers import Trainer, TrainingArguments"
   ]
  },
  {
   "cell_type": "markdown",
   "id": "00f67f18",
   "metadata": {},
   "source": [
    "# Text Classification\n",
    "Usaremos DistilBERT para realizar sentiment analysis. DistilBERT logra un rendimiento similar a BERT teniendo un tamaño mucho menor.\n",
    "\n",
    "Podemos usar checkpoints para cargar un conjunto de pesos determinados asignados a un modelo en concreto."
   ]
  },
  {
   "cell_type": "markdown",
   "id": "5d34e388",
   "metadata": {},
   "source": [
    "## Datasets \n",
    "Cargamos datasets usando Hugging face Datasets"
   ]
  },
  {
   "cell_type": "code",
   "execution_count": 2,
   "id": "c382f8de",
   "metadata": {},
   "outputs": [
    {
     "name": "stdout",
     "output_type": "stream",
     "text": [
      "There are 24567 datasets currently available on the Hub\n",
      "The first 10 are: ['acronym_identification', 'ade_corpus_v2', 'adversarial_qa', 'aeslc', 'afrikaans_ner_corpus', 'ag_news', 'ai2_arc', 'air_dialogue', 'ajgt_twitter_ar', 'allegro_reviews']\n"
     ]
    }
   ],
   "source": [
    "all_datasets = list_datasets()\n",
    "print(f'There are {len(all_datasets)} datasets currently available on the Hub')\n",
    "print(f'The first 10 are: {all_datasets[:10]}')"
   ]
  },
  {
   "cell_type": "markdown",
   "id": "4aaa6b57",
   "metadata": {},
   "source": [
    "We can load a specific dataset using the `load_dataset()` function:"
   ]
  },
  {
   "cell_type": "code",
   "execution_count": 3,
   "id": "aa9fd068",
   "metadata": {},
   "outputs": [
    {
     "name": "stderr",
     "output_type": "stream",
     "text": [
      "No config specified, defaulting to: emotion/split\n",
      "Found cached dataset emotion (C:/Users/jcav/.cache/huggingface/datasets/emotion/split/1.0.0/cca5efe2dfeb58c1d098e0f9eeb200e9927d889b5a03c67097275dfb5fe463bd)\n"
     ]
    },
    {
     "data": {
      "application/vnd.jupyter.widget-view+json": {
       "model_id": "ef758dd2b4114141a5dbb7a8f5c01a00",
       "version_major": 2,
       "version_minor": 0
      },
      "text/plain": [
       "  0%|          | 0/3 [00:00<?, ?it/s]"
      ]
     },
     "metadata": {},
     "output_type": "display_data"
    }
   ],
   "source": [
    "emotions = load_dataset(\"emotion\")"
   ]
  },
  {
   "cell_type": "markdown",
   "id": "c8e7c671",
   "metadata": {},
   "source": [
    "We can print some information about this `emotions` object"
   ]
  },
  {
   "cell_type": "code",
   "execution_count": 4,
   "id": "50d29666",
   "metadata": {},
   "outputs": [
    {
     "data": {
      "text/plain": [
       "DatasetDict({\n",
       "    train: Dataset({\n",
       "        features: ['text', 'label'],\n",
       "        num_rows: 16000\n",
       "    })\n",
       "    validation: Dataset({\n",
       "        features: ['text', 'label'],\n",
       "        num_rows: 2000\n",
       "    })\n",
       "    test: Dataset({\n",
       "        features: ['text', 'label'],\n",
       "        num_rows: 2000\n",
       "    })\n",
       "})"
      ]
     },
     "execution_count": 4,
     "metadata": {},
     "output_type": "execute_result"
    }
   ],
   "source": [
    "emotions"
   ]
  },
  {
   "cell_type": "markdown",
   "id": "52a61e15",
   "metadata": {},
   "source": [
    "We can use the usual dictionary syntax to access an individual split:"
   ]
  },
  {
   "cell_type": "code",
   "execution_count": 5,
   "id": "5502e199",
   "metadata": {},
   "outputs": [
    {
     "data": {
      "text/plain": [
       "Dataset({\n",
       "    features: ['text', 'label'],\n",
       "    num_rows: 16000\n",
       "})"
      ]
     },
     "execution_count": 5,
     "metadata": {},
     "output_type": "execute_result"
    }
   ],
   "source": [
    "train_ds = emotions['train']\n",
    "train_ds"
   ]
  },
  {
   "cell_type": "code",
   "execution_count": 6,
   "id": "6718889a",
   "metadata": {},
   "outputs": [
    {
     "data": {
      "text/plain": [
       "{'text': 'i didnt feel humiliated', 'label': 0}"
      ]
     },
     "execution_count": 6,
     "metadata": {},
     "output_type": "execute_result"
    }
   ],
   "source": [
    "train_ds[0]"
   ]
  },
  {
   "cell_type": "code",
   "execution_count": 7,
   "id": "54d0a20f",
   "metadata": {},
   "outputs": [
    {
     "data": {
      "text/plain": [
       "['text', 'label']"
      ]
     },
     "execution_count": 7,
     "metadata": {},
     "output_type": "execute_result"
    }
   ],
   "source": [
    "train_ds.column_names"
   ]
  },
  {
   "cell_type": "markdown",
   "id": "cc1eb703",
   "metadata": {},
   "source": [
    "Podemos consultar las posibles labels utilizando `.features`. Lo que revela, en este caso, que las posibles categorías son: 'sadness', 'joy', 'love', 'anger', 'fear', 'surprise' "
   ]
  },
  {
   "cell_type": "code",
   "execution_count": 8,
   "id": "81118515",
   "metadata": {},
   "outputs": [
    {
     "name": "stdout",
     "output_type": "stream",
     "text": [
      "{'text': Value(dtype='string', id=None), 'label': ClassLabel(names=['sadness', 'joy', 'love', 'anger', 'fear', 'surprise'], id=None)}\n"
     ]
    }
   ],
   "source": [
    "print(train_ds.features)"
   ]
  },
  {
   "cell_type": "markdown",
   "id": "bb9a796b",
   "metadata": {},
   "source": [
    "Para cargar un dataset que no se encuentre en el Hub, podemos utilizar `load_dataset(\"csv\", data_files=\"my_file.csv\")`"
   ]
  },
  {
   "cell_type": "markdown",
   "id": "2c55327f",
   "metadata": {},
   "source": [
    "Para cargar datos a partir de una URL:"
   ]
  },
  {
   "cell_type": "code",
   "execution_count": 9,
   "id": "c7fd29dd",
   "metadata": {},
   "outputs": [],
   "source": [
    "# dataset_url = \"https://dropbox.com/s/1pzkadrvffbqw6o/train.txt\"\n",
    "# !wget{dataset_url}\n",
    "# emotions_local = load_dataset(\"csv\", data_files=\"train.txt\", sep=\";\", names=[\"text\", \"label\"])"
   ]
  },
  {
   "cell_type": "code",
   "execution_count": 10,
   "id": "a1201325",
   "metadata": {},
   "outputs": [],
   "source": [
    "# dataset_url = \"https://www.dropbox.com/s/1pzkadrvffbqw6o/train.txt?dl=1\"\n",
    "# emotions_remote = load_dataset(\"csv\", data_files=dataset_url, sep=\";\", names=[\"text\", \"label\"])"
   ]
  },
  {
   "cell_type": "markdown",
   "id": "6920a946",
   "metadata": {},
   "source": [
    "En ocasiones es recomendable convertir los datasets de hugging face a pandas para poder acceder a todas las funciones de esta librería. Para ello, podemos utilizar el método `set_format()`, que cambia el formato de salida del dataset."
   ]
  },
  {
   "cell_type": "code",
   "execution_count": 11,
   "id": "75417082",
   "metadata": {},
   "outputs": [
    {
     "data": {
      "text/html": [
       "<div>\n",
       "<style scoped>\n",
       "    .dataframe tbody tr th:only-of-type {\n",
       "        vertical-align: middle;\n",
       "    }\n",
       "\n",
       "    .dataframe tbody tr th {\n",
       "        vertical-align: top;\n",
       "    }\n",
       "\n",
       "    .dataframe thead th {\n",
       "        text-align: right;\n",
       "    }\n",
       "</style>\n",
       "<table border=\"1\" class=\"dataframe\">\n",
       "  <thead>\n",
       "    <tr style=\"text-align: right;\">\n",
       "      <th></th>\n",
       "      <th>text</th>\n",
       "      <th>label</th>\n",
       "    </tr>\n",
       "  </thead>\n",
       "  <tbody>\n",
       "    <tr>\n",
       "      <th>0</th>\n",
       "      <td>i didnt feel humiliated</td>\n",
       "      <td>0</td>\n",
       "    </tr>\n",
       "    <tr>\n",
       "      <th>1</th>\n",
       "      <td>i can go from feeling so hopeless to so damned...</td>\n",
       "      <td>0</td>\n",
       "    </tr>\n",
       "    <tr>\n",
       "      <th>2</th>\n",
       "      <td>im grabbing a minute to post i feel greedy wrong</td>\n",
       "      <td>3</td>\n",
       "    </tr>\n",
       "    <tr>\n",
       "      <th>3</th>\n",
       "      <td>i am ever feeling nostalgic about the fireplac...</td>\n",
       "      <td>2</td>\n",
       "    </tr>\n",
       "    <tr>\n",
       "      <th>4</th>\n",
       "      <td>i am feeling grouchy</td>\n",
       "      <td>3</td>\n",
       "    </tr>\n",
       "  </tbody>\n",
       "</table>\n",
       "</div>"
      ],
      "text/plain": [
       "                                                text  label\n",
       "0                            i didnt feel humiliated      0\n",
       "1  i can go from feeling so hopeless to so damned...      0\n",
       "2   im grabbing a minute to post i feel greedy wrong      3\n",
       "3  i am ever feeling nostalgic about the fireplac...      2\n",
       "4                               i am feeling grouchy      3"
      ]
     },
     "execution_count": 11,
     "metadata": {},
     "output_type": "execute_result"
    }
   ],
   "source": [
    "emotions.set_format(type='pandas')\n",
    "df = emotions['train'][:]\n",
    "df.head()"
   ]
  },
  {
   "cell_type": "markdown",
   "id": "33ec8913",
   "metadata": {},
   "source": [
    "Las labels se han convertido en integers, por lo que utilizamos el método `int2str()` para volver a convertirlas en strings."
   ]
  },
  {
   "cell_type": "code",
   "execution_count": 12,
   "id": "6df61e7a",
   "metadata": {},
   "outputs": [],
   "source": [
    "def label_int2str(row):\n",
    "    return emotions['train'].features['label'].int2str(row)"
   ]
  },
  {
   "cell_type": "code",
   "execution_count": 13,
   "id": "f2f5dea8",
   "metadata": {},
   "outputs": [
    {
     "data": {
      "text/html": [
       "<div>\n",
       "<style scoped>\n",
       "    .dataframe tbody tr th:only-of-type {\n",
       "        vertical-align: middle;\n",
       "    }\n",
       "\n",
       "    .dataframe tbody tr th {\n",
       "        vertical-align: top;\n",
       "    }\n",
       "\n",
       "    .dataframe thead th {\n",
       "        text-align: right;\n",
       "    }\n",
       "</style>\n",
       "<table border=\"1\" class=\"dataframe\">\n",
       "  <thead>\n",
       "    <tr style=\"text-align: right;\">\n",
       "      <th></th>\n",
       "      <th>text</th>\n",
       "      <th>label</th>\n",
       "      <th>label_name</th>\n",
       "    </tr>\n",
       "  </thead>\n",
       "  <tbody>\n",
       "    <tr>\n",
       "      <th>0</th>\n",
       "      <td>i didnt feel humiliated</td>\n",
       "      <td>0</td>\n",
       "      <td>sadness</td>\n",
       "    </tr>\n",
       "    <tr>\n",
       "      <th>1</th>\n",
       "      <td>i can go from feeling so hopeless to so damned...</td>\n",
       "      <td>0</td>\n",
       "      <td>sadness</td>\n",
       "    </tr>\n",
       "    <tr>\n",
       "      <th>2</th>\n",
       "      <td>im grabbing a minute to post i feel greedy wrong</td>\n",
       "      <td>3</td>\n",
       "      <td>anger</td>\n",
       "    </tr>\n",
       "    <tr>\n",
       "      <th>3</th>\n",
       "      <td>i am ever feeling nostalgic about the fireplac...</td>\n",
       "      <td>2</td>\n",
       "      <td>love</td>\n",
       "    </tr>\n",
       "    <tr>\n",
       "      <th>4</th>\n",
       "      <td>i am feeling grouchy</td>\n",
       "      <td>3</td>\n",
       "      <td>anger</td>\n",
       "    </tr>\n",
       "  </tbody>\n",
       "</table>\n",
       "</div>"
      ],
      "text/plain": [
       "                                                text  label label_name\n",
       "0                            i didnt feel humiliated      0    sadness\n",
       "1  i can go from feeling so hopeless to so damned...      0    sadness\n",
       "2   im grabbing a minute to post i feel greedy wrong      3      anger\n",
       "3  i am ever feeling nostalgic about the fireplac...      2       love\n",
       "4                               i am feeling grouchy      3      anger"
      ]
     },
     "execution_count": 13,
     "metadata": {},
     "output_type": "execute_result"
    }
   ],
   "source": [
    "df['label_name'] = df['label'].apply(label_int2str)\n",
    "df.head()"
   ]
  },
  {
   "cell_type": "markdown",
   "id": "0ae8a1dd",
   "metadata": {},
   "source": [
    "Análisis de la distribución de las clases."
   ]
  },
  {
   "cell_type": "code",
   "execution_count": 14,
   "id": "ff41afb5",
   "metadata": {},
   "outputs": [
    {
     "data": {
      "image/png": "[encoded data removed]",
      "text/plain": [
       "<Figure size 432x288 with 1 Axes>"
      ]
     },
     "metadata": {
      "needs_background": "light"
     },
     "output_type": "display_data"
    }
   ],
   "source": [
    "df['label_name'].value_counts(ascending=True).plot.barh()\n",
    "plt.title('Frequency of classes')\n",
    "plt.show()"
   ]
  },
  {
   "cell_type": "markdown",
   "id": "7bb5c641",
   "metadata": {},
   "source": [
    "The dataset is heavily imbalanced; the joy and sadness classes appear frequently, whereas love and suprise are about 5-10 times rarer."
   ]
  },
  {
   "cell_type": "markdown",
   "id": "b7622c0d",
   "metadata": {},
   "source": [
    "Análisis de la longitud de los tweets. La máxima longitud de la entrada en DistilBERT es 512 tokens."
   ]
  },
  {
   "cell_type": "code",
   "execution_count": 15,
   "id": "9de4955f",
   "metadata": {},
   "outputs": [
    {
     "data": {
      "text/plain": [
       "Text(0.5, 0.98, '')"
      ]
     },
     "execution_count": 15,
     "metadata": {},
     "output_type": "execute_result"
    },
    {
     "data": {
      "image/png": "[encoded data removed]",
      "text/plain": [
       "<Figure size 432x288 with 1 Axes>"
      ]
     },
     "metadata": {
      "needs_background": "light"
     },
     "output_type": "display_data"
    }
   ],
   "source": [
    "df['Words per tweet'] = df['text'].str.split().apply(len)\n",
    "df.boxplot('Words per tweet', by=\"label_name\", grid=False, showfliers=False, color='black')\n",
    "plt.suptitle('')"
   ]
  },
  {
   "cell_type": "markdown",
   "id": "63d1b8ae",
   "metadata": {},
   "source": [
    "## Tokenization\n",
    "\n",
    "**Debemos usar siempre el mismo Tokenizador que el modelo.**\n",
    "\n",
    "La mayoría de los modelos no pueden recibir texto plano como entrada, deben recibir el texto tokenizado y convertido (encoded) como vectores numéricos. Recuerda que pipeline y modelo no son lo mismo, la pipeline incluye el proceso de tokenización. Podemos tokenizar por caracteres, por palabras o por \"subpalabras\". La tokenización por caracteres apenas se usa en la práctica. Subword tokenization nos permite realizar un proceso de tokenización sin tener que usar un vocabulario de grandes dimensiones."
   ]
  },
  {
   "cell_type": "code",
   "execution_count": 16,
   "id": "2a5682eb",
   "metadata": {},
   "outputs": [],
   "source": [
    "text = \"Tokenizing is a core task of NLP.\""
   ]
  },
  {
   "cell_type": "markdown",
   "id": "99ac195b",
   "metadata": {},
   "source": [
    "### Subword tokenization\n",
    "Subword tokenization combina los mejores aspectos de la tokenización por caracteres y palabras. \n",
    "- Divide palabras poco comunes en unidades más pequeñas para permitir al modelo lidiar con palabras complejas y errores de escritura.\n",
    "- Mantiene palabras comunes como entidades únicas para mantener la longitud de nuestros inputs dentro de un tamaño razonable.\n",
    "\n",
    "La principal característica de subword tokenization es que aprende del corpus de pretraining utilizando una mezcla de reglas estadísticas y algoritmos."
   ]
  },
  {
   "cell_type": "markdown",
   "id": "daa33971",
   "metadata": {},
   "source": [
    "Hugging face Transformers ofrece una clase `AutoTokenizer` que permite cargar rápidamente el tokenizer asociado con el modelo preentrenado, utilizando el método `from_pretrained()` y el ID del modelo."
   ]
  },
  {
   "cell_type": "code",
   "execution_count": 17,
   "id": "c9b3c766",
   "metadata": {},
   "outputs": [],
   "source": [
    "model_ckpt = \"distilbert-base-uncased\"\n",
    "tokenizer = AutoTokenizer.from_pretrained(model_ckpt)"
   ]
  },
  {
   "cell_type": "code",
   "execution_count": 18,
   "id": "f148a909",
   "metadata": {},
   "outputs": [],
   "source": [
    "# Método alternativo\n",
    "# from transformers import DistilBertTokenizer\n",
    "# distilbert_tokenizer = DistilBertTokenizer.from_pretrained(model_ckpt)"
   ]
  },
  {
   "cell_type": "markdown",
   "id": "bebb9ebf",
   "metadata": {},
   "source": [
    "Aplicamos el tokenizador. Las palabras han sido mapeadas a integers únicos."
   ]
  },
  {
   "cell_type": "code",
   "execution_count": 19,
   "id": "cadd79fa",
   "metadata": {},
   "outputs": [
    {
     "name": "stdout",
     "output_type": "stream",
     "text": [
      "{'input_ids': [101, 19204, 6026, 2003, 1037, 4563, 4708, 1997, 17953, 2361, 1012, 102], 'attention_mask': [1, 1, 1, 1, 1, 1, 1, 1, 1, 1, 1, 1]}\n"
     ]
    }
   ],
   "source": [
    "encoded_text = tokenizer(text)\n",
    "print(encoded_text)"
   ]
  },
  {
   "cell_type": "markdown",
   "id": "fa310178",
   "metadata": {},
   "source": [
    "Convertimos los ids en tokens."
   ]
  },
  {
   "cell_type": "code",
   "execution_count": 20,
   "id": "e33a6a19",
   "metadata": {},
   "outputs": [
    {
     "name": "stdout",
     "output_type": "stream",
     "text": [
      "['[CLS]', 'token', '##izing', 'is', 'a', 'core', 'task', 'of', 'nl', '##p', '.', '[SEP]']\n"
     ]
    }
   ],
   "source": [
    "tokens = tokenizer.convert_ids_to_tokens(encoded_text.input_ids)\n",
    "print(tokens)"
   ]
  },
  {
   "cell_type": "code",
   "execution_count": 21,
   "id": "0ab10234",
   "metadata": {},
   "outputs": [
    {
     "name": "stdout",
     "output_type": "stream",
     "text": [
      "{'input_ids': [101, 8749, 2003, 1996, 13994, 1997, 2390, 1012, 2336, 2003, 1996, 13994, 1997, 2775, 1012, 11640, 2003, 1996, 13994, 1997, 3042, 1012, 26381, 2015, 2003, 1996, 13994, 1997, 26381, 102], 'attention_mask': [1, 1, 1, 1, 1, 1, 1, 1, 1, 1, 1, 1, 1, 1, 1, 1, 1, 1, 1, 1, 1, 1, 1, 1, 1, 1, 1, 1, 1, 1]}\n"
     ]
    }
   ],
   "source": [
    "encoded_text2 = tokenizer(\"Armies is the plural of army. Children is the plural of child. Phones is the plural of phone. Smartphones is the plural of smartphone\")\n",
    "print(encoded_text2)"
   ]
  },
  {
   "cell_type": "code",
   "execution_count": 22,
   "id": "faff420b",
   "metadata": {},
   "outputs": [
    {
     "name": "stdout",
     "output_type": "stream",
     "text": [
      "['[CLS]', 'armies', 'is', 'the', 'plural', 'of', 'army', '.', 'children', 'is', 'the', 'plural', 'of', 'child', '.', 'phones', 'is', 'the', 'plural', 'of', 'phone', '.', 'smartphone', '##s', 'is', 'the', 'plural', 'of', 'smartphone', '[SEP]']\n"
     ]
    }
   ],
   "source": [
    "tokens2 = tokenizer.convert_ids_to_tokens(encoded_text2.input_ids)\n",
    "print(tokens2)"
   ]
  },
  {
   "cell_type": "markdown",
   "id": "5a18567a",
   "metadata": {},
   "source": [
    "`[CLS]` y `[SEP]` indican el inicio y el final de una secuencia."
   ]
  },
  {
   "cell_type": "markdown",
   "id": "a76b258c",
   "metadata": {},
   "source": [
    "Podemos volver a convertirlo en un string."
   ]
  },
  {
   "cell_type": "code",
   "execution_count": 23,
   "id": "9948e3a4",
   "metadata": {},
   "outputs": [
    {
     "data": {
      "text/plain": [
       "'[CLS] tokenizing is a core task of nlp. [SEP]'"
      ]
     },
     "execution_count": 23,
     "metadata": {},
     "output_type": "execute_result"
    }
   ],
   "source": [
    "tokenizer.convert_tokens_to_string(tokens)"
   ]
  },
  {
   "cell_type": "markdown",
   "id": "d93ad9c1",
   "metadata": {},
   "source": [
    "Podemos comprobar distintas propiedades, como el tamaño del vocabulario y el **tamaño máximo del contexto.**"
   ]
  },
  {
   "cell_type": "code",
   "execution_count": 24,
   "id": "eeff928f",
   "metadata": {},
   "outputs": [
    {
     "data": {
      "text/plain": [
       "30522"
      ]
     },
     "execution_count": 24,
     "metadata": {},
     "output_type": "execute_result"
    }
   ],
   "source": [
    "# Tamaño del vocabulario\n",
    "tokenizer.vocab_size"
   ]
  },
  {
   "cell_type": "code",
   "execution_count": 25,
   "id": "7b56c763",
   "metadata": {},
   "outputs": [
    {
     "data": {
      "text/plain": [
       "512"
      ]
     },
     "execution_count": 25,
     "metadata": {},
     "output_type": "execute_result"
    }
   ],
   "source": [
    "# Maximum context size\n",
    "tokenizer.model_max_length"
   ]
  },
  {
   "cell_type": "code",
   "execution_count": 26,
   "id": "baae6771",
   "metadata": {},
   "outputs": [
    {
     "data": {
      "text/plain": [
       "['input_ids', 'attention_mask']"
      ]
     },
     "execution_count": 26,
     "metadata": {},
     "output_type": "execute_result"
    }
   ],
   "source": [
    "tokenizer.model_input_names"
   ]
  },
  {
   "cell_type": "markdown",
   "id": "ca0c00bf",
   "metadata": {},
   "source": [
    "### Tokenizar el dataset completo\n",
    "Tokenizaremos el dataset completo utilizando la función `map()`. Primero, definimos una función de tokenización:"
   ]
  },
  {
   "cell_type": "code",
   "execution_count": 27,
   "id": "abfc63fa",
   "metadata": {},
   "outputs": [],
   "source": [
    "def tokenize(batch):\n",
    "    return tokenizer(batch['text'], padding=True, truncation=True)"
   ]
  },
  {
   "cell_type": "markdown",
   "id": "f91d37a2",
   "metadata": {},
   "source": [
    "- `padding=True`: Añade ceros al final hasta alcanzar el tamaño máximo del batch.\n",
    "- `truncation=True`: Trunca los ejemplos al máximo tamaño del contexto."
   ]
  },
  {
   "cell_type": "code",
   "execution_count": 28,
   "id": "1301b5f1",
   "metadata": {},
   "outputs": [],
   "source": [
    "# Hacemos que el dataset deje de ser un DataFrame de pandas\n",
    "emotions.reset_format()"
   ]
  },
  {
   "cell_type": "code",
   "execution_count": 29,
   "id": "9e2e9ee1",
   "metadata": {},
   "outputs": [
    {
     "name": "stdout",
     "output_type": "stream",
     "text": [
      "{'input_ids': [[101, 1045, 2134, 2102, 2514, 26608, 102, 0, 0, 0, 0, 0, 0, 0, 0, 0, 0, 0, 0, 0, 0, 0, 0], [101, 1045, 2064, 2175, 2013, 3110, 2061, 20625, 2000, 2061, 9636, 17772, 2074, 2013, 2108, 2105, 2619, 2040, 14977, 1998, 2003, 8300, 102]], 'attention_mask': [[1, 1, 1, 1, 1, 1, 1, 0, 0, 0, 0, 0, 0, 0, 0, 0, 0, 0, 0, 0, 0, 0, 0], [1, 1, 1, 1, 1, 1, 1, 1, 1, 1, 1, 1, 1, 1, 1, 1, 1, 1, 1, 1, 1, 1, 1]]}\n"
     ]
    }
   ],
   "source": [
    "print(tokenize(emotions['train'][:2]))"
   ]
  },
  {
   "cell_type": "markdown",
   "id": "a835b172",
   "metadata": {},
   "source": [
    "**Podemos observar que al padding se le asigna un attention score de 0.**"
   ]
  },
  {
   "cell_type": "markdown",
   "id": "89e4c7b6",
   "metadata": {},
   "source": [
    "Una vez definida una función de procesado, podemos aplicarla a todos los splits en el corpus en una sola línea de código."
   ]
  },
  {
   "cell_type": "code",
   "execution_count": 30,
   "id": "b931bccc",
   "metadata": {},
   "outputs": [
    {
     "name": "stderr",
     "output_type": "stream",
     "text": [
      "Loading cached processed dataset at C:\\Users\\jcav\\.cache\\huggingface\\datasets\\emotion\\split\\1.0.0\\cca5efe2dfeb58c1d098e0f9eeb200e9927d889b5a03c67097275dfb5fe463bd\\cache-6c2fbaf1500f5012.arrow\n",
      "Loading cached processed dataset at C:\\Users\\jcav\\.cache\\huggingface\\datasets\\emotion\\split\\1.0.0\\cca5efe2dfeb58c1d098e0f9eeb200e9927d889b5a03c67097275dfb5fe463bd\\cache-698b44fb169807a2.arrow\n",
      "Loading cached processed dataset at C:\\Users\\jcav\\.cache\\huggingface\\datasets\\emotion\\split\\1.0.0\\cca5efe2dfeb58c1d098e0f9eeb200e9927d889b5a03c67097275dfb5fe463bd\\cache-a90e6091b63c7fde.arrow\n"
     ]
    }
   ],
   "source": [
    "emotions_encoded = emotions.map(tokenize, batched=True, batch_size=None)"
   ]
  },
  {
   "cell_type": "code",
   "execution_count": 31,
   "id": "982d75cd",
   "metadata": {},
   "outputs": [
    {
     "name": "stdout",
     "output_type": "stream",
     "text": [
      "['text', 'label', 'input_ids', 'attention_mask']\n"
     ]
    }
   ],
   "source": [
    "print(emotions_encoded['train'].column_names)"
   ]
  },
  {
   "cell_type": "markdown",
   "id": "1b5c8567",
   "metadata": {},
   "source": [
    "## Training a text Classifier\n",
    "Para entrenar un text classifier, tenemos dos opciones:\n",
    "- **Feature extraction:** Utilizamos los hidden states como features y las usamos para entrenar un clasificador con ellas, sin modificar el modelo preentrenado. Simplemente añadimos la cabeza de clasificación y la entrenamos.\n",
    "- **Fine-tuning:** Entrenamos el modelo completo (end-to-end), lo que también actualiza los parámetros del modelo preentrenado."
   ]
  },
  {
   "cell_type": "markdown",
   "id": "32517d95",
   "metadata": {},
   "source": [
    "### Transformers como feature extractors\n",
    "Dejamos el modelo tal y como está y añadimos una cabeza, que es la parte que se entrena. La cabeza no tiene que ser necesariamente una red neuronal, podría ser un random forest. Utilizaremos el método `from_pretrained()` de la clase `AutoModel`."
   ]
  },
  {
   "cell_type": "code",
   "execution_count": 32,
   "id": "f839e1a2",
   "metadata": {},
   "outputs": [
    {
     "name": "stderr",
     "output_type": "stream",
     "text": [
      "Some weights of the model checkpoint at distilbert-base-uncased were not used when initializing DistilBertModel: ['vocab_projector.bias', 'vocab_transform.bias', 'vocab_projector.weight', 'vocab_transform.weight', 'vocab_layer_norm.bias', 'vocab_layer_norm.weight']\n",
      "- This IS expected if you are initializing DistilBertModel from the checkpoint of a model trained on another task or with another architecture (e.g. initializing a BertForSequenceClassification model from a BertForPreTraining model).\n",
      "- This IS NOT expected if you are initializing DistilBertModel from the checkpoint of a model that you expect to be exactly identical (initializing a BertForSequenceClassification model from a BertForSequenceClassification model).\n"
     ]
    }
   ],
   "source": [
    "model_ckpt = \"distilbert-base-uncased\"\n",
    "device = torch.device('cuda' if torch.cuda.is_available() else \"cpu\")\n",
    "model = AutoModel.from_pretrained(model_ckpt).to(device)"
   ]
  },
  {
   "cell_type": "markdown",
   "id": "230a8189",
   "metadata": {},
   "source": [
    "La clase `AutoModel` convierte los encodings de los tokens en embeddings, que son utilizados como entradas para la capa de encoder, resultando en hidden states."
   ]
  },
  {
   "cell_type": "code",
   "execution_count": 33,
   "id": "5fe16c62",
   "metadata": {},
   "outputs": [
    {
     "name": "stdout",
     "output_type": "stream",
     "text": [
      "Input tensor shape: torch.Size([1, 6])\n"
     ]
    }
   ],
   "source": [
    "# El siguiente código devuelve los últimos hidden states de un string\n",
    "text = \"This is a test\"\n",
    "inputs = tokenizer(text, return_tensors='pt')   # Convertimos (encode) el string y lo convertimos en un tensor de Pytorch\n",
    "print(f\"Input tensor shape: {inputs['input_ids'].size()}\")"
   ]
  },
  {
   "cell_type": "markdown",
   "id": "904ae81d",
   "metadata": {},
   "source": [
    "El tamaño del tensor resultante tiene la forma [batch_size, n_tokens]"
   ]
  },
  {
   "cell_type": "markdown",
   "id": "de5ed213",
   "metadata": {},
   "source": [
    "Colocamos los encodings en el mismo dispositivo que el modelo y pasamos los parámetros al input de la siguiente forma:"
   ]
  },
  {
   "cell_type": "code",
   "execution_count": 34,
   "id": "9cf42d46",
   "metadata": {},
   "outputs": [
    {
     "name": "stdout",
     "output_type": "stream",
     "text": [
      "BaseModelOutput(last_hidden_state=tensor([[[-0.1565, -0.1862,  0.0528,  ..., -0.1188,  0.0662,  0.5470],\n",
      "         [-0.3575, -0.6484, -0.0618,  ..., -0.3040,  0.3508,  0.5221],\n",
      "         [-0.2772, -0.4459,  0.1818,  ..., -0.0948, -0.0076,  0.9958],\n",
      "         [-0.2841, -0.3917,  0.3753,  ..., -0.2151, -0.1173,  1.0526],\n",
      "         [ 0.2661, -0.5094, -0.3180,  ..., -0.4203,  0.0144, -0.2149],\n",
      "         [ 0.9441,  0.0112, -0.4714,  ...,  0.1439, -0.7288, -0.1619]]]), hidden_states=None, attentions=None)\n"
     ]
    }
   ],
   "source": [
    "inputs = {k:v.to(device) for k,v in inputs.items()}\n",
    "with torch.no_grad():\n",
    "    outputs = model(**inputs)\n",
    "print(outputs)"
   ]
  },
  {
   "cell_type": "markdown",
   "id": "d6b9dfc8",
   "metadata": {},
   "source": [
    "`torch.no_grad()` deshabilita el cálculo automático del gradiente, lo que reduce el uso de memoria de los cálculos."
   ]
  },
  {
   "cell_type": "code",
   "execution_count": 35,
   "id": "bd87c5a7",
   "metadata": {},
   "outputs": [
    {
     "name": "stdout",
     "output_type": "stream",
     "text": [
      "torch.Size([1, 6, 768])\n",
      "torch.Size([1, 6, 768])\n"
     ]
    }
   ],
   "source": [
    "# size = [n_batches, n_tokens, hidden_dim], a 768-dimensional vector is returned for each of the 6 input tokens\n",
    "print(outputs[0].shape)\n",
    "print(outputs.last_hidden_state.size())"
   ]
  },
  {
   "cell_type": "markdown",
   "id": "0d024911",
   "metadata": {},
   "source": [
    "En tareas de clasificación es común usar el hidden state asociado con el token [CLS]. \n",
    "\n",
    "Este token encapsula el significado de toda la secuencia de input. Esto se consigue entrenando el modelo para predecir si una input sequence pertenece a una clase en concreto, usando el token [CLS] como entrada de la capa de clasificación. Sin embargo, en algunos casos otros tokens en la secuencia de input pueden ser más relevantes para la tarea a realizar. "
   ]
  },
  {
   "cell_type": "code",
   "execution_count": 36,
   "id": "4609ef42",
   "metadata": {},
   "outputs": [
    {
     "data": {
      "text/plain": [
       "torch.Size([1, 768])"
      ]
     },
     "execution_count": 36,
     "metadata": {},
     "output_type": "execute_result"
    }
   ],
   "source": [
    "outputs.last_hidden_state[:,0].size()"
   ]
  },
  {
   "cell_type": "markdown",
   "id": "d83690c1",
   "metadata": {},
   "source": [
    "Creamos una función que extraiga los hidden states de todo el dataset creando una columna `hidden_state` que almacene estos vectores."
   ]
  },
  {
   "cell_type": "code",
   "execution_count": 37,
   "id": "be9c1fa3",
   "metadata": {},
   "outputs": [],
   "source": [
    "def extract_hidden_states(batch):\n",
    "    # Place model inputs on GPU\n",
    "    inputs = {k:v.to(device) for k,v in batch.items() if k in tokenizer.model_input_names}\n",
    "    # Extract last hidden states\n",
    "    with torch.no_grad():\n",
    "        last_hidden_state = model(**inputs).last_hidden_state\n",
    "        # Return vector for [CLS] token\n",
    "        return {\"hidden_state\": last_hidden_state[:,0].cpu().numpy()}"
   ]
  },
  {
   "cell_type": "markdown",
   "id": "2ef1b1e2",
   "metadata": {},
   "source": [
    "Como nuestro modelo recibe tensores como entrada, el siguiente paso consiste en convertir `input_ids` y `attention_mask` en tensores de pytorch."
   ]
  },
  {
   "cell_type": "code",
   "execution_count": 38,
   "id": "b221e971",
   "metadata": {},
   "outputs": [],
   "source": [
    "emotions_encoded.set_format('torch', columns=['input_ids', 'attention_mask', 'label'])"
   ]
  },
  {
   "cell_type": "code",
   "execution_count": 39,
   "id": "def1cbc9",
   "metadata": {},
   "outputs": [
    {
     "data": {
      "application/vnd.jupyter.widget-view+json": {
       "model_id": "",
       "version_major": 2,
       "version_minor": 0
      },
      "text/plain": [
       "Map:   0%|          | 0/16000 [00:00<?, ? examples/s]"
      ]
     },
     "metadata": {},
     "output_type": "display_data"
    },
    {
     "data": {
      "application/vnd.jupyter.widget-view+json": {
       "model_id": "",
       "version_major": 2,
       "version_minor": 0
      },
      "text/plain": [
       "Map:   0%|          | 0/2000 [00:00<?, ? examples/s]"
      ]
     },
     "metadata": {},
     "output_type": "display_data"
    },
    {
     "data": {
      "application/vnd.jupyter.widget-view+json": {
       "model_id": "",
       "version_major": 2,
       "version_minor": 0
      },
      "text/plain": [
       "Map:   0%|          | 0/2000 [00:00<?, ? examples/s]"
      ]
     },
     "metadata": {},
     "output_type": "display_data"
    }
   ],
   "source": [
    "# Ahora podemos extraer los hidden states de todos los splits\n",
    "emotions_hidden = emotions_encoded.map(extract_hidden_states, batched=True)"
   ]
  },
  {
   "cell_type": "code",
   "execution_count": 40,
   "id": "09bdb34d",
   "metadata": {},
   "outputs": [
    {
     "data": {
      "text/plain": [
       "Dataset({\n",
       "    features: ['text', 'label', 'input_ids', 'attention_mask'],\n",
       "    num_rows: 16000\n",
       "})"
      ]
     },
     "execution_count": 40,
     "metadata": {},
     "output_type": "execute_result"
    }
   ],
   "source": [
    "emotions_encoded['train']"
   ]
  },
  {
   "cell_type": "code",
   "execution_count": 41,
   "id": "7bee73da",
   "metadata": {},
   "outputs": [
    {
     "data": {
      "text/plain": [
       "tensor([[  101,  1045,  2134,  ...,     0,     0,     0],\n",
       "        [  101,  1045,  2064,  ...,     0,     0,     0],\n",
       "        [  101, 10047,  9775,  ...,     0,     0,     0],\n",
       "        ...,\n",
       "        [  101,  1045,  2514,  ...,     0,     0,     0],\n",
       "        [  101,  1045,  2514,  ...,     0,     0,     0],\n",
       "        [  101,  1045,  2113,  ...,     0,     0,     0]])"
      ]
     },
     "execution_count": 41,
     "metadata": {},
     "output_type": "execute_result"
    }
   ],
   "source": [
    "emotions_encoded['train']['input_ids']"
   ]
  },
  {
   "cell_type": "code",
   "execution_count": 42,
   "id": "d85223ac",
   "metadata": {},
   "outputs": [
    {
     "data": {
      "text/plain": [
       "['text', 'label', 'input_ids', 'attention_mask', 'hidden_state']"
      ]
     },
     "execution_count": 42,
     "metadata": {},
     "output_type": "execute_result"
    }
   ],
   "source": [
    "emotions_hidden['train'].column_names"
   ]
  },
  {
   "cell_type": "code",
   "execution_count": 43,
   "id": "cf728828",
   "metadata": {},
   "outputs": [
    {
     "data": {
      "text/plain": [
       "tensor([[-0.1168,  0.0986, -0.1296,  ...,  0.0587,  0.3543,  0.4042],\n",
       "        [-0.0324, -0.0323, -0.1957,  ..., -0.1747,  0.3546,  0.3028],\n",
       "        [ 0.0397,  0.2022,  0.1423,  ..., -0.1141,  0.3394,  0.3958],\n",
       "        ...,\n",
       "        [-0.0034, -0.0959,  0.0584,  ..., -0.0427,  0.2496,  0.3076],\n",
       "        [ 0.0666,  0.1733,  0.1290,  ...,  0.0612,  0.2904,  0.4684],\n",
       "        [ 0.0167,  0.1013, -0.0073,  ..., -0.0649,  0.3454,  0.2199]])"
      ]
     },
     "execution_count": 43,
     "metadata": {},
     "output_type": "execute_result"
    }
   ],
   "source": [
    "emotions_hidden['train']['hidden_state']"
   ]
  },
  {
   "cell_type": "markdown",
   "id": "48495ecf",
   "metadata": {},
   "source": [
    "Una vez tenemos los hidden states, el siguiente paso es utilizarlos para entrenar un clasificador. Para ello, debemos crear una feature matrix."
   ]
  },
  {
   "cell_type": "code",
   "execution_count": 44,
   "id": "f86b43a6",
   "metadata": {},
   "outputs": [],
   "source": [
    "X_train = np.array(emotions_hidden['train']['hidden_state'])\n",
    "X_valid = np.array(emotions_hidden['validation']['hidden_state'])\n",
    "\n",
    "y_train = np.array(emotions_hidden['train']['label'])\n",
    "y_valid = np.array(emotions_hidden['validation']['label'])"
   ]
  },
  {
   "cell_type": "code",
   "execution_count": 45,
   "id": "fb869f14",
   "metadata": {},
   "outputs": [
    {
     "data": {
      "text/plain": [
       "((16000, 768), (2000, 768))"
      ]
     },
     "execution_count": 45,
     "metadata": {},
     "output_type": "execute_result"
    }
   ],
   "source": [
    "X_train.shape, X_valid.shape"
   ]
  },
  {
   "cell_type": "markdown",
   "id": "e588d362",
   "metadata": {},
   "source": [
    "**Visualizando el conjunto de entrenamiento:** Usamos el algoritmo UMAP para proyectar los vectores en 2D. UMAP funciona mejor en el intervalo [0,1], así que primero aplicaremos `MinMaxScaler` y después usaremos la librería `umap-learn` para ver los hidden states."
   ]
  },
  {
   "cell_type": "code",
   "execution_count": 46,
   "id": "842497d2",
   "metadata": {},
   "outputs": [
    {
     "data": {
      "text/html": [
       "<div>\n",
       "<style scoped>\n",
       "    .dataframe tbody tr th:only-of-type {\n",
       "        vertical-align: middle;\n",
       "    }\n",
       "\n",
       "    .dataframe tbody tr th {\n",
       "        vertical-align: top;\n",
       "    }\n",
       "\n",
       "    .dataframe thead th {\n",
       "        text-align: right;\n",
       "    }\n",
       "</style>\n",
       "<table border=\"1\" class=\"dataframe\">\n",
       "  <thead>\n",
       "    <tr style=\"text-align: right;\">\n",
       "      <th></th>\n",
       "      <th>X</th>\n",
       "      <th>Y</th>\n",
       "      <th>label</th>\n",
       "    </tr>\n",
       "  </thead>\n",
       "  <tbody>\n",
       "    <tr>\n",
       "      <th>0</th>\n",
       "      <td>4.464338</td>\n",
       "      <td>7.375511</td>\n",
       "      <td>0</td>\n",
       "    </tr>\n",
       "    <tr>\n",
       "      <th>1</th>\n",
       "      <td>-2.917268</td>\n",
       "      <td>7.068353</td>\n",
       "      <td>0</td>\n",
       "    </tr>\n",
       "    <tr>\n",
       "      <th>2</th>\n",
       "      <td>5.077981</td>\n",
       "      <td>3.740644</td>\n",
       "      <td>3</td>\n",
       "    </tr>\n",
       "    <tr>\n",
       "      <th>3</th>\n",
       "      <td>-2.767284</td>\n",
       "      <td>4.355202</td>\n",
       "      <td>2</td>\n",
       "    </tr>\n",
       "    <tr>\n",
       "      <th>4</th>\n",
       "      <td>-3.432452</td>\n",
       "      <td>5.069812</td>\n",
       "      <td>3</td>\n",
       "    </tr>\n",
       "  </tbody>\n",
       "</table>\n",
       "</div>"
      ],
      "text/plain": [
       "          X         Y  label\n",
       "0  4.464338  7.375511      0\n",
       "1 -2.917268  7.068353      0\n",
       "2  5.077981  3.740644      3\n",
       "3 -2.767284  4.355202      2\n",
       "4 -3.432452  5.069812      3"
      ]
     },
     "execution_count": 46,
     "metadata": {},
     "output_type": "execute_result"
    }
   ],
   "source": [
    "# Scale features to [0,1] range\n",
    "X_scaled = MinMaxScaler().fit_transform(X_train)\n",
    "# Initialize and fit UMAP\n",
    "mapper = UMAP(n_components=2, metric='cosine').fit(X_scaled)\n",
    "# Create a DataFrame of 2D embeddings\n",
    "df_emb = pd.DataFrame(mapper.embedding_, columns=[\"X\", \"Y\"])\n",
    "df_emb[\"label\"] = y_train\n",
    "df_emb.head()"
   ]
  },
  {
   "cell_type": "code",
   "execution_count": 47,
   "id": "98c5e255",
   "metadata": {},
   "outputs": [
    {
     "data": {
      "image/png": "[encoded data removed]",
      "text/plain": [
       "<Figure size 504x360 with 6 Axes>"
      ]
     },
     "metadata": {},
     "output_type": "display_data"
    }
   ],
   "source": [
    "fig, axes = plt.subplots(2, 3, figsize=(7,5))\n",
    "axes = axes.flatten()\n",
    "cmaps = [\"Greys\", \"Blues\", \"Oranges\", \"Reds\", \"Purples\", \"Greens\"]\n",
    "labels = emotions['train'].features['label'].names\n",
    "\n",
    "for i, (label, cmap) in enumerate(zip(labels, cmaps)):\n",
    "    df_emb_sub = df_emb.query(f\"label == {i}\")\n",
    "    axes[i].hexbin(df_emb_sub['X'], df_emb_sub['Y'], cmap=cmap, gridsize=20, linewidth=(0,))\n",
    "    axes[i].set_title(label)\n",
    "    axes[i].set_xticks([]), axes[i].set_yticks([])\n",
    "\n",
    "plt.tight_layout()\n",
    "plt.show()"
   ]
  },
  {
   "cell_type": "markdown",
   "id": "03fc5125",
   "metadata": {},
   "source": [
    "**Usando un clasificador simple:** Vamos a usar los hidden states para entrenar una regresión logística."
   ]
  },
  {
   "cell_type": "code",
   "execution_count": 49,
   "id": "0b7c5e77",
   "metadata": {},
   "outputs": [
    {
     "data": {
      "text/plain": [
       "0.633"
      ]
     },
     "execution_count": 49,
     "metadata": {},
     "output_type": "execute_result"
    }
   ],
   "source": [
    "lr_clf = LogisticRegression(max_iter=3000)\n",
    "lr_clf.fit(X_train, y_train)\n",
    "lr_clf.score(X_valid, y_valid)"
   ]
  },
  {
   "cell_type": "markdown",
   "id": "ce05553d",
   "metadata": {},
   "source": [
    "Utilizamos `DummyClassifier` como baseline."
   ]
  },
  {
   "cell_type": "code",
   "execution_count": 52,
   "id": "9d4c6b94",
   "metadata": {},
   "outputs": [
    {
     "data": {
      "text/plain": [
       "0.352"
      ]
     },
     "execution_count": 52,
     "metadata": {},
     "output_type": "execute_result"
    }
   ],
   "source": [
    "dummy_clf = DummyClassifier(strategy=\"most_frequent\")\n",
    "dummy_clf.fit(X_train, y_train)\n",
    "dummy_clf.score(X_valid, y_valid)"
   ]
  },
  {
   "cell_type": "markdown",
   "id": "04644490",
   "metadata": {},
   "source": [
    "Confusion matrix:"
   ]
  },
  {
   "cell_type": "code",
   "execution_count": 55,
   "id": "732129fe",
   "metadata": {},
   "outputs": [],
   "source": [
    "def plot_confusion_matrix(y_preds, y_true, labels):\n",
    "    cm = confusion_matrix(y_true, y_preds, normalize=\"true\")\n",
    "    fig, ax = plt.subplots(figsize=(6,6))\n",
    "    disp = ConfusionMatrixDisplay(confusion_matrix=cm, display_labels=labels)\n",
    "    disp.plot(cmap=\"Blues\", values_format=\".2f\", ax=ax, colorbar=False)\n",
    "    plt.title(\"Normalized confusion matrix\")\n",
    "    plt.show()"
   ]
  },
  {
   "cell_type": "code",
   "execution_count": 56,
   "id": "40114ab0",
   "metadata": {},
   "outputs": [
    {
     "data": {
      "image/png": "[encoded data removed]",
      "text/plain": [
       "<Figure size 432x432 with 1 Axes>"
      ]
     },
     "metadata": {
      "needs_background": "light"
     },
     "output_type": "display_data"
    }
   ],
   "source": [
    "y_preds = lr_clf.predict(X_valid)\n",
    "plot_confusion_matrix(y_preds, y_valid, labels)"
   ]
  },
  {
   "cell_type": "markdown",
   "id": "f12a841b",
   "metadata": {},
   "source": [
    "### Fine-tuning de Transformers\n",
    "En lugar de utilizar los hidden states como features ya definidas, todos los parámetros del modelo son entrenables.\n",
    "\n",
    "Entrenar los hidden states evita que trabajemos con datos que no sean adecuados para la tarea de clasificación. Utilizaremos La API `Trainer` de Hugging Face Transformers para simplificar el proceso de entrenamiento."
   ]
  },
  {
   "cell_type": "markdown",
   "id": "d676d4e0",
   "metadata": {},
   "source": [
    "#### 1. Cargar un modelo ya entrenado\n",
    "Debemos usar `AutoModelForSequenceClassification` en lugar de `AutoModel`. La diferencia está en que este modelo tiene una cabeza de clasificación, que puede ser fácilmente entrenada con el modelo base. \n",
    "\n",
    "Solo tenemos que indicar el número de labels que el modelo tiene que predecir, lo que determina el número de salidas de la cabeza de clasificación."
   ]
  },
  {
   "cell_type": "code",
   "execution_count": 59,
   "id": "771cc664",
   "metadata": {},
   "outputs": [
    {
     "name": "stderr",
     "output_type": "stream",
     "text": [
      "Some weights of the model checkpoint at distilbert-base-uncased were not used when initializing DistilBertForSequenceClassification: ['vocab_projector.bias', 'vocab_transform.bias', 'vocab_projector.weight', 'vocab_transform.weight', 'vocab_layer_norm.bias', 'vocab_layer_norm.weight']\n",
      "- This IS expected if you are initializing DistilBertForSequenceClassification from the checkpoint of a model trained on another task or with another architecture (e.g. initializing a BertForSequenceClassification model from a BertForPreTraining model).\n",
      "- This IS NOT expected if you are initializing DistilBertForSequenceClassification from the checkpoint of a model that you expect to be exactly identical (initializing a BertForSequenceClassification model from a BertForSequenceClassification model).\n",
      "Some weights of DistilBertForSequenceClassification were not initialized from the model checkpoint at distilbert-base-uncased and are newly initialized: ['pre_classifier.weight', 'classifier.weight', 'classifier.bias', 'pre_classifier.bias']\n",
      "You should probably TRAIN this model on a down-stream task to be able to use it for predictions and inference.\n"
     ]
    }
   ],
   "source": [
    "num_labels = 6\n",
    "model = (AutoModelForSequenceClassification.from_pretrained(model_ckpt, num_labels=num_labels).to(device))"
   ]
  },
  {
   "cell_type": "markdown",
   "id": "8ec27cfb",
   "metadata": {},
   "source": [
    "#### 2. Definir métricas de rendimiento"
   ]
  },
  {
   "cell_type": "code",
   "execution_count": 61,
   "id": "344ecdd5",
   "metadata": {},
   "outputs": [],
   "source": [
    "def compute_metrics(pred):\n",
    "    labels = pred.label_ids\n",
    "    preds = pred.predictions.argmax(-1)\n",
    "    f1 = f1_score(labels, preds, average=\"weighted\")\n",
    "    acc = accuracy_score(labels, preds)\n",
    "    return {\"accuracy\" : acc, \"f1\": f1}"
   ]
  },
  {
   "cell_type": "code",
   "execution_count": 63,
   "id": "0923882c",
   "metadata": {},
   "outputs": [
    {
     "name": "stdout",
     "output_type": "stream",
     "text": [
      "Token is valid.\n",
      "Your token has been saved in your configured git credential helpers (manager-core).\n",
      "Your token has been saved to C:\\Users\\jcav\\.cache\\huggingface\\token\n",
      "Login successful\n"
     ]
    }
   ],
   "source": [
    "notebook_login()"
   ]
  },
  {
   "cell_type": "code",
   "execution_count": 65,
   "id": "4a2d4af1",
   "metadata": {},
   "outputs": [],
   "source": [
    "batch_size = 64\n",
    "logging_steps = len(emotions_encoded['train']) # batch size\n",
    "model_name = f\"{model_ckpt}-finetuned-emotion\"\n",
    "training_args = TrainingArguments(output_dir=model_name,\n",
    "                                 num_train_epochs=2,\n",
    "                                  learning_rate=2e-5,\n",
    "                                  per_device_train_batch_size=batch_size,\n",
    "                                  per_device_eval_batch_size=batch_size,\n",
    "                                  weight_decay=0.01,\n",
    "                                  evaluation_strategy=\"epoch\",\n",
    "                                  disable_tqdm=False,\n",
    "                                  logging_steps=logging_steps,\n",
    "                                  push_to_hub=True,\n",
    "                                  log_level=\"error\"\n",
    "                                 )"
   ]
  },
  {
   "cell_type": "code",
   "execution_count": 66,
   "id": "8672ab5c",
   "metadata": {},
   "outputs": [
    {
     "name": "stderr",
     "output_type": "stream",
     "text": [
      "Cloning https://huggingface.co/Carsick/distilbert-base-uncased-finetuned-emotion into local empty directory.\n",
      "C:\\Users\\jcav\\anaconda3\\lib\\site-packages\\transformers\\optimization.py:306: FutureWarning: This implementation of AdamW is deprecated and will be removed in a future version. Use the PyTorch implementation torch.optim.AdamW instead, or set `no_deprecation_warning=True` to disable this warning\n",
      "  warnings.warn(\n"
     ]
    },
    {
     "data": {
      "text/html": [
       "\n",
       "    <div>\n",
       "      \n",
       "      <progress value='500' max='500' style='width:300px; height:20px; vertical-align: middle;'></progress>\n",
       "      [500/500 48:41, Epoch 2/2]\n",
       "    </div>\n",
       "    <table border=\"1\" class=\"dataframe\">\n",
       "  <thead>\n",
       " <tr style=\"text-align: left;\">\n",
       "      <th>Epoch</th>\n",
       "      <th>Training Loss</th>\n",
       "      <th>Validation Loss</th>\n",
       "      <th>Accuracy</th>\n",
       "      <th>F1</th>\n",
       "    </tr>\n",
       "  </thead>\n",
       "  <tbody>\n",
       "    <tr>\n",
       "      <td>1</td>\n",
       "      <td>No log</td>\n",
       "      <td>0.312114</td>\n",
       "      <td>0.910000</td>\n",
       "      <td>0.907628</td>\n",
       "    </tr>\n",
       "    <tr>\n",
       "      <td>2</td>\n",
       "      <td>No log</td>\n",
       "      <td>0.215143</td>\n",
       "      <td>0.925500</td>\n",
       "      <td>0.925624</td>\n",
       "    </tr>\n",
       "  </tbody>\n",
       "</table><p>"
      ],
      "text/plain": [
       "<IPython.core.display.HTML object>"
      ]
     },
     "metadata": {},
     "output_type": "display_data"
    },
    {
     "data": {
      "text/plain": [
       "TrainOutput(global_step=500, training_loss=0.5371781005859375, metrics={'train_runtime': 2927.3647, 'train_samples_per_second': 10.931, 'train_steps_per_second': 0.171, 'total_flos': 720342861696000.0, 'train_loss': 0.5371781005859375, 'epoch': 2.0})"
      ]
     },
     "execution_count": 66,
     "metadata": {},
     "output_type": "execute_result"
    }
   ],
   "source": [
    "trainer = Trainer(model=model, args=training_args, \n",
    "                  compute_metrics=compute_metrics,\n",
    "                  train_dataset=emotions_encoded[\"train\"],\n",
    "                  eval_dataset=emotions_encoded[\"validation\"],\n",
    "                  tokenizer=tokenizer\n",
    "                 )\n",
    "trainer.train()"
   ]
  },
  {
   "cell_type": "code",
   "execution_count": 67,
   "id": "71421818",
   "metadata": {},
   "outputs": [
    {
     "data": {
      "text/html": [],
      "text/plain": [
       "<IPython.core.display.HTML object>"
      ]
     },
     "metadata": {},
     "output_type": "display_data"
    }
   ],
   "source": [
    "# Predecimos en el conjunto de validación\n",
    "preds_output = trainer.predict(emotions_encoded['validation'])"
   ]
  },
  {
   "cell_type": "code",
   "execution_count": 68,
   "id": "709b207c",
   "metadata": {},
   "outputs": [
    {
     "data": {
      "text/plain": [
       "{'test_loss': 0.2151426076889038,\n",
       " 'test_accuracy': 0.9255,\n",
       " 'test_f1': 0.9256237719536403,\n",
       " 'test_runtime': 50.0688,\n",
       " 'test_samples_per_second': 39.945,\n",
       " 'test_steps_per_second': 0.639}"
      ]
     },
     "execution_count": 68,
     "metadata": {},
     "output_type": "execute_result"
    }
   ],
   "source": [
    "preds_output.metrics"
   ]
  },
  {
   "cell_type": "code",
   "execution_count": 69,
   "id": "80bee5e9",
   "metadata": {},
   "outputs": [],
   "source": [
    "y_preds = np.argmax(preds_output.predictions, axis=1)"
   ]
  },
  {
   "cell_type": "code",
   "execution_count": 70,
   "id": "5e2b54ba",
   "metadata": {},
   "outputs": [
    {
     "data": {
      "image/png": "[encoded data removed]",
      "text/plain": [
       "<Figure size 432x432 with 1 Axes>"
      ]
     },
     "metadata": {
      "needs_background": "light"
     },
     "output_type": "display_data"
    }
   ],
   "source": [
    "plot_confusion_matrix(y_preds, y_valid, labels)"
   ]
  },
  {
   "cell_type": "markdown",
   "id": "544c08bb",
   "metadata": {},
   "source": [
    "#### 3. Error analysis\n",
    "Available on the book."
   ]
  },
  {
   "cell_type": "markdown",
   "id": "96f218ab",
   "metadata": {},
   "source": [
    "#### 4. Push and convert into pipeline\n",
    "Available on the book."
   ]
  }
 ],
 "metadata": {
  "kernelspec": {
   "display_name": "Python 3 (ipykernel)",
   "language": "python",
   "name": "python3"
  },
  "language_info": {
   "codemirror_mode": {
    "name": "ipython",
    "version": 3
   },
   "file_extension": ".py",
   "mimetype": "text/x-python",
   "name": "python",
   "nbconvert_exporter": "python",
   "pygments_lexer": "ipython3",
   "version": "3.9.7"
  }
 },
 "nbformat": 4,
 "nbformat_minor": 5
}
